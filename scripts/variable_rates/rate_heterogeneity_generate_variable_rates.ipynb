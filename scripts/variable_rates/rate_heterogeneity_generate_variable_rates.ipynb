{
 "cells": [
  {
   "cell_type": "code",
   "execution_count": 1,
   "metadata": {
    "ExecuteTime": {
     "end_time": "2023-07-11T19:54:42.863710Z",
     "start_time": "2023-07-11T19:54:35.092658Z"
    }
   },
   "outputs": [],
   "source": [
    "import pandas as pd\n",
    "import matplotlib.pyplot as plt\n",
    "import numpy as np\n",
    "from sklearn.linear_model import LinearRegression\n",
    "from scipy import stats\n",
    "import seaborn as sns\n",
    "%matplotlib inline\n",
    "import scipy as sp\n",
    "# import statsmodels.api as sm\n",
    "# import statsmodels.formula.api as smf\n",
    "import os\n",
    "import glob\n",
    "\n",
    "import itertools\n",
    "\n",
    "import string\n",
    "#from Bio import AlignIO"
   ]
  },
  {
   "cell_type": "code",
   "execution_count": 2,
   "metadata": {
    "ExecuteTime": {
     "end_time": "2023-07-11T19:54:50.106610Z",
     "start_time": "2023-07-11T19:54:50.064491Z"
    }
   },
   "outputs": [],
   "source": [
    "df = pd.DataFrame()\n",
    "for chrom in ['2L', '2R', '3L', '3R', 'X']:\n",
    "    d = pd.read_csv(r\"/home/vivak/Comeron_tables/Comeron_100kb_chr\"+\n",
    "                    chrom+\".txt\",\n",
    "           sep='\\t',\n",
    "           names = ['start', 'RR'])\n",
    "    df = pd.concat([df, d])\n",
    "df['RR']=df['RR']/2"
   ]
  },
  {
   "cell_type": "code",
   "execution_count": 3,
   "metadata": {
    "ExecuteTime": {
     "end_time": "2023-07-11T19:54:50.844942Z",
     "start_time": "2023-07-11T19:54:50.836952Z"
    }
   },
   "outputs": [
    {
     "data": {
      "text/plain": [
       "count    1194.000000\n",
       "mean        1.161127\n",
       "std         1.062186\n",
       "min         0.000000\n",
       "25%         0.380849\n",
       "50%         0.938201\n",
       "75%         1.627517\n",
       "max         7.399361\n",
       "Name: RR, dtype: float64"
      ]
     },
     "execution_count": 3,
     "metadata": {},
     "output_type": "execute_result"
    }
   ],
   "source": [
    "df.RR.describe()"
   ]
  },
  {
   "cell_type": "code",
   "execution_count": 70,
   "metadata": {
    "ExecuteTime": {
     "end_time": "2023-05-05T20:21:16.488491Z",
     "start_time": "2023-05-05T20:21:16.485945Z"
    }
   },
   "outputs": [],
   "source": [
    "totalWins = 100\n",
    "reps = 100\n",
    "windowSize = 10000"
   ]
  },
  {
   "cell_type": "code",
   "execution_count": 15,
   "metadata": {
    "ExecuteTime": {
     "end_time": "2023-05-25T20:15:18.590511Z",
     "start_time": "2023-05-25T20:15:15.788713Z"
    }
   },
   "outputs": [],
   "source": [
    "for i in range(1, 101, 1):\n",
    "    rrm = 3\n",
    "    #Chuck out any replicates whose mean is too far from the fixed mean\n",
    "    while((rrm>1.20) | (rrm<1.12)):\n",
    "        pos = [int(x+1) for x in range(0, totalWins*windowSize, windowSize)]\n",
    "\n",
    "        rr = stats.loguniform(a=0.0127,\n",
    "                     b=df.RR.max()).rvs(totalWins)\n",
    "        rdf = pd.DataFrame([pos, rr]).T\n",
    "        rdf[0] = [int(x) for x in rdf[0]]\n",
    "        rrm = rdf[1].mean()\n",
    "    rdf.to_csv(r\"/home/vivak/rr_mu_demog_inference//rr_maps/1kb/\"+str(i)+\".txt\", \n",
    "              sep='\\t', \n",
    "              header=False, \n",
    "              index=False)\n"
   ]
  },
  {
   "cell_type": "code",
   "execution_count": 16,
   "metadata": {
    "ExecuteTime": {
     "end_time": "2023-05-25T20:16:01.909298Z",
     "start_time": "2023-05-25T20:16:00.429656Z"
    }
   },
   "outputs": [],
   "source": [
    "for i in range(1, 101):\n",
    "    rrm = 3\n",
    "    #Chuck out any replicates whose mean is too far from the fixed mean\n",
    "    while((rrm>3.3e-9) | (rrm<2.3e-9)):\n",
    "        pos = [int(x+1) for x in range(0, totalWins*windowSize, windowSize)]\n",
    "\n",
    "        #Generate random variables (a is such that mean is close to Keightley et al. 2014 mean)\n",
    "        mu = stats.loguniform(a= 1e-9, \n",
    "                  b=6.1e-9).rvs(totalWins)\n",
    "        rdf = pd.DataFrame([pos, mu]).T\n",
    "        rdf[0] = [int(x) for x in rdf[0]]\n",
    "        rrm = rdf[1].mean()\n",
    "\n",
    "    rdf.to_csv(r\"/home/vivak/rr_mu_demog_inference/mu_maps/1kb/\"+str(i)+\".txt\", \n",
    "              sep='\\t', \n",
    "              header=False, \n",
    "              index=False)\n"
   ]
  }
 ],
 "metadata": {
  "hide_input": false,
  "kernelspec": {
   "display_name": "Python 3 (ipykernel)",
   "language": "python",
   "name": "python3"
  },
  "language_info": {
   "codemirror_mode": {
    "name": "ipython",
    "version": 3
   },
   "file_extension": ".py",
   "mimetype": "text/x-python",
   "name": "python",
   "nbconvert_exporter": "python",
   "pygments_lexer": "ipython3",
   "version": "3.8.17"
  },
  "varInspector": {
   "cols": {
    "lenName": 16,
    "lenType": 16,
    "lenVar": 40
   },
   "kernels_config": {
    "python": {
     "delete_cmd_postfix": "",
     "delete_cmd_prefix": "del ",
     "library": "var_list.py",
     "varRefreshCmd": "print(var_dic_list())"
    },
    "r": {
     "delete_cmd_postfix": ") ",
     "delete_cmd_prefix": "rm(",
     "library": "var_list.r",
     "varRefreshCmd": "cat(var_dic_list()) "
    }
   },
   "types_to_exclude": [
    "module",
    "function",
    "builtin_function_or_method",
    "instance",
    "_Feature"
   ],
   "window_display": false
  }
 },
 "nbformat": 4,
 "nbformat_minor": 4
}
